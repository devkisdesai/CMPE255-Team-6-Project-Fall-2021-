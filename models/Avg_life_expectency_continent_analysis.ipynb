{
 "cells": [
  {
   "cell_type": "markdown",
   "id": "c0fd2bd2",
   "metadata": {},
   "source": [
    "## Linear Regression on Contienents Average life Expectency \n",
    "\n",
    "#### Life Expectency:\n",
    "\n",
    "Life expectancy at birth indicates the number of years a newborn infant would live if prevailing patterns of mortality at the time of its birth were to stay the same throughout its life.\n",
    "\n",
    "#### Development Relevance:\n",
    "Mortality rates for different age groups (infants, children, and adults) and overall mortality indicators (life expectancy at birth or survival to a given age) are important indicators of health status in a country. Because data on the incidence and prevalence of diseases are frequently unavailable, mortality rates are often used to identify vulnerable populations. And they are among the indicators most frequently used to compare socioeconomic development across countries.\n",
    "\n",
    "#### Limitations:\n",
    "Annual data series from United Nations Population Division's World Population Prospects are interpolated data from 5-year period data. Therefore they may not reflect real events as much as observed data.\n",
    "\n",
    "\n",
    "Steps:\n",
    " 1. gather continent wise data\n",
    " 2. format and visualize\n",
    " 3. split data\n",
    " 4. fit model\n",
    " 5. calculate  $r^{2}$ , mean absolute error, root mean squared error\n"
   ]
  },
  {
   "cell_type": "code",
   "execution_count": 136,
   "id": "cc14d375",
   "metadata": {},
   "outputs": [],
   "source": [
    "# import libraries\n",
    "import numpy as np\n",
    "import pandas as pd\n",
    "import matplotlib.pyplot as plt\n",
    "import matplotlib.ticker as mticker\n",
    "import sklearn as sk\n",
    "import seaborn as sns\n",
    "import pycountry #country codes\n",
    "from sklearn.model_selection import train_test_split\n",
    "from sklearn.preprocessing import scale #data scaling\n",
    "from sklearn import decomposition #PCA\n",
    "from sklearn import linear_model #linear model\n",
    "\n",
    "#library for plots\n",
    "import plotly\n",
    "import plotly.graph_objs as go\n",
    "import plotly.offline as offline\n",
    "from plotly.graph_objs import *\n",
    "from plotly.offline import download_plotlyjs, init_notebook_mode, plot, iplot\n",
    "\n",
    "\n",
    "TOTAL_SC = \"SP.DYN.LE00.IN\"\n",
    "MALE_SC = \"SP.DYN.LE00.MA.IN\"\n",
    "FEMALE_SC = \"SP.DYN.LE00.FE.IN\""
   ]
  },
  {
   "cell_type": "code",
   "execution_count": 56,
   "id": "9618a1e9",
   "metadata": {},
   "outputs": [],
   "source": [
    "# load data\n",
    "def loadData():\n",
    "    pop_data = pd.read_csv('../Datasets/Population Data 1960-2050.csv', low_memory=False)\n",
    "    pop_data = pop_data.replace('..', np.nan)\n",
    "    pop_data = pop_data.iloc[: , 1:] \n",
    "    return pop_data"
   ]
  },
  {
   "cell_type": "code",
   "execution_count": 57,
   "id": "ab99136f",
   "metadata": {},
   "outputs": [],
   "source": [
    "# missing data check\n",
    "def checkForMissingData(df):\n",
    "    plt.figure()\n",
    "    sns.heatmap(df.isnull().transpose(),\n",
    "                cmap=\"YlGnBu\",\n",
    "                cbar_kws={'label': 'Missing Data'})\n",
    "    plt.title(\"Missing data across dataset\")\n",
    "    plt.show()"
   ]
  },
  {
   "cell_type": "code",
   "execution_count": 58,
   "id": "4f4b6554",
   "metadata": {},
   "outputs": [],
   "source": [
    "# add country code\n",
    "def getCountryNonCountryData(pop_data):\n",
    "    country_codes = []\n",
    "    country_names = []\n",
    "    for country in pycountry.countries:\n",
    "        country_codes.append(country.alpha_3)\n",
    "        country_names.append(country.name)\n",
    "    country_codes.sort(key=str.lower)\n",
    "    country_names.sort(key=str.lower)\n",
    "\n",
    "    country_data = pop_data[pop_data.Country_Code.isin(country_codes)]\n",
    "    non_country_data = pop_data[~pop_data.Country_Code.isin(country_codes)]\n",
    "    non_country_data = non_country_data.iloc[: , 3:] # Removing Continent Codes for non-Nations (Will be NA anyway)\n",
    "    return country_data, non_country_data"
   ]
  },
  {
   "cell_type": "code",
   "execution_count": 59,
   "id": "2e3bed2f",
   "metadata": {},
   "outputs": [],
   "source": [
    "def getAvgLifeExpectency(country_data, seriescode):\n",
    "    df = country_data[country_data.Series_Code == seriescode] #life expectecy seriescode\n",
    "    return df"
   ]
  },
  {
   "cell_type": "code",
   "execution_count": 75,
   "id": "80e9128c",
   "metadata": {},
   "outputs": [],
   "source": [
    "#remove unwanted columns\n",
    "def formatAvgLifeExpectency(df):\n",
    "    f_df = df.drop(['Continent_Name','Country_Number','Country_Name','Series_Name','Series_Code'], axis=1)\n",
    "    years = f_df.columns[2:]\n",
    "    f_df[years] = f_df[years].apply(pd.to_numeric)\n",
    "    f_df.columns = f_df.columns.str.strip(\"[]\")\n",
    "    return f_df"
   ]
  },
  {
   "cell_type": "code",
   "execution_count": 133,
   "id": "c79a90de",
   "metadata": {},
   "outputs": [],
   "source": [
    "#pivot data\n",
    "def pivotAvgLifeExpectency(df, seriescode):\n",
    "    countries = set(df[\"Country_Code\"])\n",
    "    cc = {}\n",
    "    for country in countries:\n",
    "        country_df = df[df['Country_Code'] == country]\n",
    "        continent =  set(country_df[\"Continent_Code\"])\n",
    "        country_df = country_df.drop(['Continent_Code','Country_Code'], axis=1)\n",
    "        country_df = country_df.T\n",
    "        country_df.index = country_df.index.rename('year')\n",
    "        country_df = country_df.rename(columns = {country_df.columns[0] : country})\n",
    "        country_df.reset_index(inplace=True)        \n",
    "        cc[country] = country_df\n",
    "        \n",
    "        \n",
    "    year = list(range(1960,2051)) #years 2020 to 2060\n",
    "    combined_df = None\n",
    "    for i,country in enumerate(cc.keys()):\n",
    "        if(i == 0):\n",
    "            combined_df = pd.DataFrame(year,columns =['year'])\n",
    "            combined_df['avg_life_exp'] = cc[country][country]\n",
    "            combined_df = combined_df.assign(country_code=country)\n",
    "        else:\n",
    "            temp_df = cc[country]\n",
    "            temp_df = temp_df.rename(columns={country: \"avg_life_exp\"})\n",
    "            temp_df = temp_df.assign(country_code=country)\n",
    "            combined_df = pd.concat([combined_df,temp_df])\n",
    "            \n",
    "    if(seriescode == TOTAL_SC):\n",
    "        combined_df.to_csv(r'../Datasets/LifeExpectencyCountryTotal2020_2060.csv', index = False)\n",
    "    elif(seriescode == MALE_SC):\n",
    "        combined_df.to_csv(r'../Datasets/LifeExpectencyCountryMale2020_2060.csv', index = False)\n",
    "    elif(seriescode == FEMALE_SC):\n",
    "        combined_df.to_csv(r'../Datasets/LifeExpectencyCountryFemale2020_2060.csv', index = False)\n",
    "        \n",
    "    return combined_df\n",
    "        \n"
   ]
  },
  {
   "cell_type": "code",
   "execution_count": 134,
   "id": "5dec616b",
   "metadata": {},
   "outputs": [],
   "source": [
    "def main():\n",
    "    pop_data = loadData()\n",
    "   \n",
    "    #get country and non coutry data\n",
    "    country_data, non_country_data = getCountryNonCountryData(pop_data)\n",
    "    \n",
    "    # get total population of all countries\n",
    "    total_le = getAvgLifeExpectency(country_data, TOTAL_SC)\n",
    "    male_le = getAvgLifeExpectency(country_data, MALE_SC)\n",
    "    female_le = getAvgLifeExpectency(country_data, FEMALE_SC)\n",
    "    \n",
    "    #formated data\n",
    "    total_le = formatAvgLifeExpectency(total_le)\n",
    "    male_le = formatAvgLifeExpectency(male_le)\n",
    "    female_le = formatAvgLifeExpectency(female_le)\n",
    "    \n",
    "    #pivot data to format\n",
    "    total_le = pivotAvgLifeExpectency(total_le, TOTAL_SC)\n",
    "    male_le = pivotAvgLifeExpectency(male_le, MALE_SC)\n",
    "    female_le = pivotAvgLifeExpectency(female_le, FEMALE_SC)\n",
    "    \n",
    "    \n",
    "\n",
    "if __name__ == \"__main__\":\n",
    "    main()"
   ]
  },
  {
   "cell_type": "code",
   "execution_count": null,
   "id": "b6797f3f",
   "metadata": {},
   "outputs": [],
   "source": []
  }
 ],
 "metadata": {
  "kernelspec": {
   "display_name": "Python 3",
   "language": "python",
   "name": "python3"
  },
  "language_info": {
   "codemirror_mode": {
    "name": "ipython",
    "version": 3
   },
   "file_extension": ".py",
   "mimetype": "text/x-python",
   "name": "python",
   "nbconvert_exporter": "python",
   "pygments_lexer": "ipython3",
   "version": "3.6.2"
  }
 },
 "nbformat": 4,
 "nbformat_minor": 5
}
